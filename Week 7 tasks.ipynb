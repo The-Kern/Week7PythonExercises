{
 "cells": [
  {
   "cell_type": "markdown",
   "metadata": {},
   "source": [
    "# Week 7 asignment"
   ]
  },
  {
   "cell_type": "markdown",
   "metadata": {},
   "source": [
    "\n",
    "\n",
    "For the following task you will need to use the website: https://www.dba.dk/\n",
    "1. Create a BeautifulSoup Object from the link given above\n",
    "2. Find all the \"Kategorier\"\n",
    "3. Find all the links \n",
    "4. Use selenium to press the \"Kategory\" link with the name \"biler\"\n",
    "5. In the category \"biler\" theres a list with cities to see where the sales of cars is located. Make a bar plot from lowest to highest showing the amount of car sale in each city.\n",
    "\n",
    "\n",
    "\n"
   ]
  },
  {
   "cell_type": "code",
   "execution_count": null,
   "metadata": {},
   "outputs": [],
   "source": []
  }
 ],
 "metadata": {
  "kernelspec": {
   "display_name": "Python 3",
   "language": "python",
   "name": "python3"
  },
  "language_info": {
   "codemirror_mode": {
    "name": "ipython",
    "version": 3
   },
   "file_extension": ".py",
   "mimetype": "text/x-python",
   "name": "python",
   "nbconvert_exporter": "python",
   "pygments_lexer": "ipython3",
   "version": "3.7.6"
  }
 },
 "nbformat": 4,
 "nbformat_minor": 4
}
